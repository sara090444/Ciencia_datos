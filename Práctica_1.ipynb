{
 "cells": [
  {
   "cell_type": "markdown",
   "metadata": {},
   "source": [
    "# Práctica 1: Descripción del problema\n",
    "\n",
    "## Introduction\n",
    "\n",
    "La ciencia de los datos es un campo interdisciplinario que involucra métodos científicos, procesos y sistemas para extraer conocimiento o un mejor entendimiento de datos en sus diferentes formas, ya sea estructurados o no estructurados.\n",
    "\n",
    "La ciencia de los datos en la salud tiene grandes desarrollos, entre ellos apoya a la detección temprana de enfermedades que se pueden caracterizar (ej. cáncer, diabetis, tumores en general, etc).\n",
    "\n",
    "Pocos estudios se han realizado para mostrar la interrelación entre la calidad de aire, las enfermedades y la salud (colocar cita). Quizás una de sus mayores complicaciones es el obtener la información. \n",
    "\n",
    "Este estudio ha sido posible al esfuerzo de diversas organizaciones gubernamentales y académicas. \n",
    "\n",
    "## Problema\n",
    "\n",
    "El índice de calidad del aire es una cifra que refleja las cantidades de contaminantes presentes en el aire. Altas concentraciones de contaminantes afectan la salud de los habitantes, desde irritaciones oculares, hasta provocar todo tipo de problemas respiratorios e incluso cardíacos.\n",
    "\n",
    "Técnicamente se define a la calidad del aire o inmisión como la concentración de contaminante que llega a un receptor, más o menos alejado de la fuente de emisión.\n",
    "\n",
    "Lo que se desea analizar es la relación que existe entre 3 \n",
    "\n",
    "\n",
    "## Preguntas de investigación\n",
    "¿Existe alguna correlación entre el clima, la calidad de aire y la salud de los habitantes?\n",
    "¿Cuales son los factores de interés para controlar la calidad de aire?\n",
    "¿Existe alguna correlación entre mala calidad del aire y el periodo del año?¿Cuales son los periodos del año con mayor afectación a la calidad de aire?\n",
    "¿Qué enfermedades guardan relación con la calidad de aire?"
   ]
  },
  {
   "cell_type": "markdown",
   "metadata": {
    "collapsed": true
   },
   "source": [
    "## [gato] (url)\n",
    "- dgfgwf\n",
    "\n",
    "# Descripción de los datos \n",
    "La secretaría de desarrollo sustentable, \n",
    "\n",
    "## wjioovv\n",
    "\n",
    "\n"
   ]
  },
  {
   "cell_type": "code",
   "execution_count": null,
   "metadata": {
    "collapsed": true
   },
   "outputs": [],
   "source": []
  }
 ],
 "metadata": {
  "kernelspec": {
   "display_name": "Python 3",
   "language": "python",
   "name": "python3"
  },
  "language_info": {
   "codemirror_mode": {
    "name": "ipython",
    "version": 3
   },
   "file_extension": ".py",
   "mimetype": "text/x-python",
   "name": "python",
   "nbconvert_exporter": "python",
   "pygments_lexer": "ipython3",
   "version": "3.6.3"
  }
 },
 "nbformat": 4,
 "nbformat_minor": 2
}
